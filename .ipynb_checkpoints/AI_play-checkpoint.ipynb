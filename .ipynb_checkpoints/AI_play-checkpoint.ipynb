{
 "cells": [
  {
   "cell_type": "code",
   "execution_count": 4,
   "metadata": {},
   "outputs": [
    {
     "name": "stdout",
     "output_type": "stream",
     "text": [
      "INFO:tensorflow:Restoring parameters from ./model/tf_policy_11_11_5_model\n"
     ]
    }
   ],
   "source": [
    "\n",
    "from game import Board, Game\n",
    "\n",
    "from nneural_network import neural_net_p\n",
    "from montecarlo import monte_tree_search\n",
    "\n",
    "\n",
    "class player(object):\n",
    "   \n",
    "\n",
    "    def __init__(self):\n",
    "        self.player = None\n",
    "    \n",
    "    def set_player_ind(self, p):\n",
    "        self.player = p\n",
    "\n",
    "    def get_action(self, board):\n",
    "        try:\n",
    "            location = input(\"Your move: \")\n",
    "            if isinstance(location, str):\n",
    "                location = [int(n, 10) for n in location.split(\",\")]  # for python3\n",
    "            move = board.ltm(location)\n",
    "        except Exception as e:\n",
    "            move = -1\n",
    "        if move == -1 or move not in board.availables:\n",
    "            print(\"invalid move\")\n",
    "            move = self.get_action(board)\n",
    "        return move\n",
    "\n",
    "    def __str__(self):\n",
    "        return \"Human {}\".format(self.player)\n",
    "\n",
    "\n",
    "def run():\n",
    "    n_row = 5\n",
    "    width, height = 11, 11\n",
    "\n",
    "    try:\n",
    "        board = Board(width=width, height=height, n_in_row=n_row)\n",
    "        game = Game(board)      \n",
    "        \n",
    "        \n",
    "      \n",
    "        best_policy = neural_net_p(width, height, n_row)\n",
    "        mcts_player = monte_tree_search(best_policy.pv_fn, c_puct=5, n_playout=400)  # set larger n_playout for better performance\n",
    "        \n",
    "        human = player()                   \n",
    "        \n",
    "        # set start_player=0 for human first\n",
    "        game.start_play(human, mcts_player, start_player=1, is_shown=1)\n",
    "    except KeyboardInterrupt:\n",
    "        print('\\n\\rquit')\n",
    "\n",
    "if __name__ == '__main__':    \n",
    "    run()\n",
    "   \n",
    "\n",
    "\n"
   ]
  },
  {
   "cell_type": "code",
   "execution_count": null,
   "metadata": {},
   "outputs": [],
   "source": []
  }
 ],
 "metadata": {
  "kernelspec": {
   "display_name": "Python 3",
   "language": "python",
   "name": "python3"
  },
  "language_info": {
   "codemirror_mode": {
    "name": "ipython",
    "version": 3
   },
   "file_extension": ".py",
   "mimetype": "text/x-python",
   "name": "python",
   "nbconvert_exporter": "python",
   "pygments_lexer": "ipython3",
   "version": "3.7.1"
  }
 },
 "nbformat": 4,
 "nbformat_minor": 2
}
