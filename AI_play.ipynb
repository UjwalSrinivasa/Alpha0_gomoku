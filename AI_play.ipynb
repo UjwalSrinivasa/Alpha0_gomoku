{
 "cells": [
  {
   "cell_type": "code",
   "execution_count": 1,
   "metadata": {},
   "outputs": [
    {
     "name": "stdout",
     "output_type": "stream",
     "text": [
      "WARNING:tensorflow:From /Users/ujwals/Desktop/AI FINAL PROJECT/AlphaZero_Gomoku-tensorflow-master new/nneural_network.py:34: conv2d (from tensorflow.python.layers.convolutional) is deprecated and will be removed in a future version.\n",
      "Instructions for updating:\n",
      "Use keras.layers.conv2d instead.\n",
      "WARNING:tensorflow:From /Users/ujwals/anaconda3/lib/python3.7/site-packages/tensorflow/python/framework/op_def_library.py:263: colocate_with (from tensorflow.python.framework.ops) is deprecated and will be removed in a future version.\n",
      "Instructions for updating:\n",
      "Colocations handled automatically by placer.\n",
      "WARNING:tensorflow:From /Users/ujwals/Desktop/AI FINAL PROJECT/AlphaZero_Gomoku-tensorflow-master new/nneural_network.py:47: dense (from tensorflow.python.layers.core) is deprecated and will be removed in a future version.\n",
      "Instructions for updating:\n",
      "Use keras.layers.dense instead.\n",
      "\n",
      "WARNING: The TensorFlow contrib module will not be included in TensorFlow 2.0.\n",
      "For more information, please see:\n",
      "  * https://github.com/tensorflow/community/blob/master/rfcs/20180907-contrib-sunset.md\n",
      "  * https://github.com/tensorflow/addons\n",
      "If you depend on functionality not listed there, please file an issue.\n",
      "\n",
      "WARNING:tensorflow:From /Users/ujwals/anaconda3/lib/python3.7/site-packages/tensorflow/contrib/layers/python/layers/layers.py:1624: flatten (from tensorflow.python.layers.core) is deprecated and will be removed in a future version.\n",
      "Instructions for updating:\n",
      "Use keras.layers.flatten instead.\n",
      "WARNING:tensorflow:From /Users/ujwals/Desktop/AI FINAL PROJECT/AlphaZero_Gomoku-tensorflow-master new/nneural_network.py:66: softmax_cross_entropy_with_logits (from tensorflow.python.ops.nn_ops) is deprecated and will be removed in a future version.\n",
      "Instructions for updating:\n",
      "\n",
      "Future major versions of TensorFlow will allow gradients to flow\n",
      "into the labels input on backprop by default.\n",
      "\n",
      "See `tf.nn.softmax_cross_entropy_with_logits_v2`.\n",
      "\n",
      "WARNING:tensorflow:From /Users/ujwals/anaconda3/lib/python3.7/site-packages/tensorflow/python/training/saver.py:1266: checkpoint_exists (from tensorflow.python.training.checkpoint_management) is deprecated and will be removed in a future version.\n",
      "Instructions for updating:\n",
      "Use standard file APIs to check for files with this prefix.\n",
      "INFO:tensorflow:Restoring parameters from ./model/tf_policy_11_11_5_model\n"
     ]
    },
    {
     "name": "stderr",
     "output_type": "stream",
     "text": [
      "/Users/ujwals/Desktop/AI FINAL PROJECT/AlphaZero_Gomoku-tensorflow-master new/montecarlo.py:113: RuntimeWarning: divide by zero encountered in log\n",
      "  act_probs = softmax(1.0/temp * np.log(visits))\n"
     ]
    }
   ],
   "source": [
    "\n",
    "from game import Board, Game\n",
    "\n",
    "from nneural_network import neural_net_p\n",
    "from montecarlo import monte_tree_search\n",
    "\n",
    "\n",
    "class player(object):\n",
    "   \n",
    "\n",
    "    def __init__(self):\n",
    "        self.player = None\n",
    "    \n",
    "    def set_player_ind(self, p):\n",
    "        self.player = p\n",
    "\n",
    "    def get_action(self, board):\n",
    "        try:\n",
    "            location = input(\"Your move: \")\n",
    "            if isinstance(location, str):\n",
    "                location = [int(n, 10) for n in location.split(\",\")]  # for python3\n",
    "            move = board.ltm(location)\n",
    "        except Exception as e:\n",
    "            move = -1\n",
    "        if move == -1 or move not in board.availables:\n",
    "            print(\"invalid move\")\n",
    "            move = self.get_action(board)\n",
    "        return move\n",
    "\n",
    "    def __str__(self):\n",
    "        return \"Human {}\".format(self.player)\n",
    "\n",
    "\n",
    "def run():\n",
    "    n_row = 5\n",
    "    width, height = 11, 11\n",
    "\n",
    "    try:\n",
    "        board = Board(width=width, height=height, n_in_row=n_row)\n",
    "        game = Game(board)      \n",
    "        \n",
    "        \n",
    "      \n",
    "        best_policy = neural_net_p(width, height, n_row)\n",
    "        mcts_player = monte_tree_search(best_policy.pv_fn, c_puct=5, n_playout=400)  # set larger n_playout for better performance\n",
    "        \n",
    "        human = player()                   \n",
    "        \n",
    "        # set start_player=0 for human first\n",
    "        game.start_play(human, mcts_player, start_player=1, is_shown=1)\n",
    "    except KeyboardInterrupt:\n",
    "        print('\\n\\rquit')\n",
    "\n",
    "if __name__ == '__main__':    \n",
    "    run()\n",
    "   \n",
    "\n",
    "\n"
   ]
  },
  {
   "cell_type": "code",
   "execution_count": null,
   "metadata": {},
   "outputs": [],
   "source": []
  }
 ],
 "metadata": {
  "kernelspec": {
   "display_name": "Python 3",
   "language": "python",
   "name": "python3"
  },
  "language_info": {
   "codemirror_mode": {
    "name": "ipython",
    "version": 3
   },
   "file_extension": ".py",
   "mimetype": "text/x-python",
   "name": "python",
   "nbconvert_exporter": "python",
   "pygments_lexer": "ipython3",
   "version": "3.7.1"
  }
 },
 "nbformat": 4,
 "nbformat_minor": 2
}
